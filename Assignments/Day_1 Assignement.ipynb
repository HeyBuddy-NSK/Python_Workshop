{
 "cells": [
  {
   "cell_type": "markdown",
   "id": "367810cb",
   "metadata": {},
   "source": [
    "# Assignment Day 1"
   ]
  },
  {
   "cell_type": "markdown",
   "id": "2773a48a",
   "metadata": {},
   "source": [
    "## 7 to the power 6"
   ]
  },
  {
   "cell_type": "code",
   "execution_count": 1,
   "id": "2f446c89",
   "metadata": {},
   "outputs": [
    {
     "data": {
      "text/plain": [
       "117649"
      ]
     },
     "execution_count": 1,
     "metadata": {},
     "output_type": "execute_result"
    }
   ],
   "source": [
    "7**6"
   ]
  },
  {
   "cell_type": "markdown",
   "id": "14e57453",
   "metadata": {},
   "source": [
    "## Split string into a list"
   ]
  },
  {
   "cell_type": "code",
   "execution_count": 2,
   "id": "77464166",
   "metadata": {},
   "outputs": [
    {
     "name": "stdout",
     "output_type": "stream",
     "text": [
      "['Hi', 'there', 'Yogesh']\n"
     ]
    }
   ],
   "source": [
    "s = 'Hi there Yogesh'\n",
    "\n",
    "print(s.split(\" \"))"
   ]
  },
  {
   "cell_type": "markdown",
   "id": "b8348699",
   "metadata": {},
   "source": [
    "## Using .format() method on string"
   ]
  },
  {
   "cell_type": "code",
   "execution_count": 4,
   "id": "2aa9b5ab",
   "metadata": {},
   "outputs": [
    {
     "name": "stdout",
     "output_type": "stream",
     "text": [
      "The diameter of Earth is 12742 kilometers\n"
     ]
    }
   ],
   "source": [
    "planet = 'Earth'\n",
    "diameter = 12742\n",
    "\n",
    "result = \"The diameter of {} is {} kilometers\".format(planet,diameter)\n",
    "print(result)"
   ]
  },
  {
   "cell_type": "markdown",
   "id": "20477230",
   "metadata": {},
   "source": [
    "## Using indexing to grab the required word from nested list"
   ]
  },
  {
   "cell_type": "code",
   "execution_count": 6,
   "id": "55e3f679",
   "metadata": {},
   "outputs": [
    {
     "name": "stdout",
     "output_type": "stream",
     "text": [
      "hello\n"
     ]
    }
   ],
   "source": [
    "lst = [1,2,[3,4],[5,[100,200,['hello']],23,11],1,7]\n",
    "\n",
    "print(lst[3][1][2][0])"
   ]
  },
  {
   "cell_type": "markdown",
   "id": "54b2dcad",
   "metadata": {},
   "source": [
    "## Grabing the 'hello' word from dictionary"
   ]
  },
  {
   "cell_type": "code",
   "execution_count": 7,
   "id": "c90fb366",
   "metadata": {},
   "outputs": [
    {
     "name": "stdout",
     "output_type": "stream",
     "text": [
      "hello\n"
     ]
    }
   ],
   "source": [
    "d = {'kl':[1,2,3,{'tricky':['oh','man','inception',{'target':[1,2,3,'hello']}]}]}\n",
    "\n",
    "print(d['kl'][3]['tricky'][3]['target'][3])"
   ]
  },
  {
   "cell_type": "markdown",
   "id": "b033da0f",
   "metadata": {},
   "source": [
    "## creating a function to get gmail as input and return domain"
   ]
  },
  {
   "cell_type": "code",
   "execution_count": 9,
   "id": "614399a1",
   "metadata": {},
   "outputs": [
    {
     "name": "stdout",
     "output_type": "stream",
     "text": [
      "abcd@gmail.com\n"
     ]
    },
    {
     "data": {
      "text/plain": [
       "'gmail.com'"
      ]
     },
     "execution_count": 9,
     "metadata": {},
     "output_type": "execute_result"
    }
   ],
   "source": [
    "mail = input()\n",
    "\n",
    "def ret_domain(mail):\n",
    "    return mail.split('@')[1]\n",
    "\n",
    "\n",
    "ret_domain(mail)"
   ]
  },
  {
   "cell_type": "code",
   "execution_count": 11,
   "id": "1913c8fc",
   "metadata": {},
   "outputs": [
    {
     "data": {
      "text/plain": [
       "'hotmail.com'"
      ]
     },
     "execution_count": 11,
     "metadata": {},
     "output_type": "execute_result"
    }
   ],
   "source": [
    "ret_domain(\"xyz@hotmail.com\")"
   ]
  },
  {
   "cell_type": "markdown",
   "id": "2b120ab8",
   "metadata": {},
   "source": [
    "## creating function checking if 'dog' word in string or not"
   ]
  },
  {
   "cell_type": "code",
   "execution_count": 14,
   "id": "ca9e6ec1",
   "metadata": {},
   "outputs": [
    {
     "data": {
      "text/plain": [
       "True"
      ]
     },
     "execution_count": 14,
     "metadata": {},
     "output_type": "execute_result"
    }
   ],
   "source": [
    "def findDog(str1):\n",
    "    if 'dog' in str1:\n",
    "        return True\n",
    "    else:\n",
    "        return False\n",
    "\n",
    "findDog('Is there a dog here?')"
   ]
  },
  {
   "cell_type": "markdown",
   "id": "6ab528c8",
   "metadata": {},
   "source": [
    "## Function for counting number of times 'dog' word occurs in string"
   ]
  },
  {
   "cell_type": "code",
   "execution_count": 15,
   "id": "f61a1b38",
   "metadata": {},
   "outputs": [
    {
     "data": {
      "text/plain": [
       "2"
      ]
     },
     "execution_count": 15,
     "metadata": {},
     "output_type": "execute_result"
    }
   ],
   "source": [
    "def countDog(st1):\n",
    "    count = st1.count('dog')\n",
    "    return count\n",
    "\n",
    "countDog('This dog runs faster than the other dog dude!')"
   ]
  },
  {
   "cell_type": "markdown",
   "id": "b49fbc9f",
   "metadata": {},
   "source": [
    "## using lambda and filter() function to filter out words from list that starts with letter 's'"
   ]
  },
  {
   "cell_type": "code",
   "execution_count": 16,
   "id": "7772eb5a",
   "metadata": {},
   "outputs": [
    {
     "name": "stdout",
     "output_type": "stream",
     "text": [
      "['soup', 'salad']\n"
     ]
    }
   ],
   "source": [
    "seq = ['soup','dog','salad','cat','great']\n",
    "\n",
    "slam = lambda x:x[0]=='s'\n",
    "\n",
    "print(list(filter(slam,seq)))"
   ]
  },
  {
   "cell_type": "markdown",
   "id": "0a8f41ca",
   "metadata": {},
   "source": [
    "# Problems"
   ]
  },
  {
   "cell_type": "markdown",
   "id": "1a49f134",
   "metadata": {},
   "source": [
    "## 1.\n",
    "You are driving a little too fast, and a police officer stops you. Write a function to\n",
    "return one of 3 possible results: \"No ticket\", \"Small ticket\", or \"Big Ticket\". If your\n",
    "speed is 60 or less, the result is \"No Ticket\". If speed is between 61 and 80 inclusive,\n",
    "the result is \"Small Ticket\". If speed is 81 or more, the result is \"Big Ticket\". Unless it\n",
    "is your birthday (encoded as a boolean value in the parameters of the function) -- on\n",
    "your birthday, your speed can be 5 higher in all cases.\n",
    "\n",
    "\n",
    "___def caught_speeding(speed, is_birthday):\n",
    " pass___\n",
    "\n",
    "\n",
    "caught_speeding(81,True)\n",
    "'Small Ticket'\n",
    "\n",
    "caught_speeding(81,False)\n",
    "'Big Ticket'"
   ]
  },
  {
   "cell_type": "code",
   "execution_count": 17,
   "id": "2a2cee1a",
   "metadata": {},
   "outputs": [
    {
     "name": "stdout",
     "output_type": "stream",
     "text": [
      "Small Ticket\n",
      "Big Ticket\n"
     ]
    }
   ],
   "source": [
    "def caught_speeding(speed,is_birthday):\n",
    "    if speed<=60 and not is_birthday:\n",
    "        return 'No Ticket'\n",
    "    \n",
    "    elif 61<=speed<=80 and not is_birthday:\n",
    "        return 'Small Ticket'\n",
    "    \n",
    "    elif speed>=81 and not is_birthday:\n",
    "        return 'Big Ticket'\n",
    "    \n",
    "    elif is_birthday and speed<=65:\n",
    "        return 'No Ticket'\n",
    "    \n",
    "    elif is_birthday and 66<=speed<=85:\n",
    "        return 'Small Ticket'\n",
    "    \n",
    "    elif is_birthday and speed>=86:\n",
    "        return 'Big Ticket'\n",
    "    \n",
    "    \n",
    "print(caught_speeding(81,True))\n",
    "print(caught_speeding(81,False))\n",
    "    "
   ]
  },
  {
   "cell_type": "markdown",
   "id": "41b3a9ad",
   "metadata": {},
   "source": [
    "## 2.\n",
    "\n",
    "Question\n",
    "Given a string print number num by extracting all the\n",
    "digits from the string as in string\n",
    "Print negative number if the first character in\n",
    "string is '-'\n",
    "\n",
    "eg.\n",
    "-123abcd should return -123,abcd456-->456,fdhfh78dsd89--->7889,-\n",
    "56dssd78-->-5678"
   ]
  },
  {
   "cell_type": "code",
   "execution_count": 47,
   "id": "bd79b237",
   "metadata": {},
   "outputs": [],
   "source": [
    "# function using string function\n",
    "def nums(digString):\n",
    "    result = \"\".join(list(filter(str.isdigit,digString)))\n",
    "    \n",
    "    return int(\"-\"+ result) if digString[0] == '-' else int(result)"
   ]
  },
  {
   "cell_type": "code",
   "execution_count": 48,
   "id": "7206d40c",
   "metadata": {},
   "outputs": [],
   "source": [
    "# function using ascii values\n",
    "def aNums(digString):\n",
    "    result = ''\n",
    "    for let in digString:\n",
    "        if ord(let) in range(48,58):\n",
    "            result = result+let\n",
    "            \n",
    "    return int('-'+result) if digString[0]=='-' else int(result)"
   ]
  },
  {
   "cell_type": "code",
   "execution_count": 42,
   "id": "2d6054ce",
   "metadata": {},
   "outputs": [
    {
     "data": {
      "text/plain": [
       "-123"
      ]
     },
     "execution_count": 42,
     "metadata": {},
     "output_type": "execute_result"
    }
   ],
   "source": [
    "nums('-123abcd')"
   ]
  },
  {
   "cell_type": "code",
   "execution_count": 49,
   "id": "2be546e5",
   "metadata": {},
   "outputs": [
    {
     "data": {
      "text/plain": [
       "-123"
      ]
     },
     "execution_count": 49,
     "metadata": {},
     "output_type": "execute_result"
    }
   ],
   "source": [
    "aNums('-123abcd')"
   ]
  },
  {
   "cell_type": "code",
   "execution_count": 43,
   "id": "7dbc82c4",
   "metadata": {},
   "outputs": [
    {
     "data": {
      "text/plain": [
       "456"
      ]
     },
     "execution_count": 43,
     "metadata": {},
     "output_type": "execute_result"
    }
   ],
   "source": [
    "nums('abcd456')"
   ]
  },
  {
   "cell_type": "code",
   "execution_count": 50,
   "id": "93454ddf",
   "metadata": {},
   "outputs": [
    {
     "data": {
      "text/plain": [
       "456"
      ]
     },
     "execution_count": 50,
     "metadata": {},
     "output_type": "execute_result"
    }
   ],
   "source": [
    "aNums('abcd456')"
   ]
  },
  {
   "cell_type": "code",
   "execution_count": 44,
   "id": "6b682dc0",
   "metadata": {},
   "outputs": [
    {
     "data": {
      "text/plain": [
       "7889"
      ]
     },
     "execution_count": 44,
     "metadata": {},
     "output_type": "execute_result"
    }
   ],
   "source": [
    "nums('fdhfh78dsd89')"
   ]
  },
  {
   "cell_type": "code",
   "execution_count": 51,
   "id": "7f9235a1",
   "metadata": {},
   "outputs": [
    {
     "data": {
      "text/plain": [
       "7889"
      ]
     },
     "execution_count": 51,
     "metadata": {},
     "output_type": "execute_result"
    }
   ],
   "source": [
    "aNums('fdhfh78dsd89')"
   ]
  },
  {
   "cell_type": "code",
   "execution_count": 45,
   "id": "8228e3dd",
   "metadata": {},
   "outputs": [
    {
     "data": {
      "text/plain": [
       "-5678"
      ]
     },
     "execution_count": 45,
     "metadata": {},
     "output_type": "execute_result"
    }
   ],
   "source": [
    "nums('-56dssd78')"
   ]
  },
  {
   "cell_type": "code",
   "execution_count": 52,
   "id": "2f375f36",
   "metadata": {},
   "outputs": [
    {
     "data": {
      "text/plain": [
       "-5678"
      ]
     },
     "execution_count": 52,
     "metadata": {},
     "output_type": "execute_result"
    }
   ],
   "source": [
    "aNums('-56dssd78')"
   ]
  },
  {
   "cell_type": "markdown",
   "id": "2464c89b",
   "metadata": {},
   "source": [
    "## 3.\n",
    "\n",
    "Write a program to check whether a number is palindrome or not on following \n",
    "conditions.\n",
    "1. take input number\n",
    "2. add number and its reverse\n",
    "3. check that number is palindrome or not,if not then sum and its \n",
    "reverse\n"
   ]
  },
  {
   "cell_type": "code",
   "execution_count": 3,
   "id": "8958c2ca",
   "metadata": {},
   "outputs": [
    {
     "name": "stdout",
     "output_type": "stream",
     "text": [
      "88\n",
      "number  is 176\n",
      "reverse is 671\n",
      "number  is 847\n",
      "reverse is 748\n",
      "number  is 1595\n",
      "reverse is 5951\n",
      "number  is 7546\n",
      "reverse is 6457\n",
      "number  is 14003\n",
      "reverse is 30041\n",
      "\n",
      "\n",
      "44044 is palindrome\n"
     ]
    }
   ],
   "source": [
    "num = input()\n",
    "\n",
    "while True:\n",
    "    num = str(int(num)+int(num[::-1]))\n",
    "    \n",
    "    if num == num[::-1]:\n",
    "        print('\\n\\n{} is palindrome'.format(num))\n",
    "        break\n",
    "\n",
    "    else:\n",
    "        print('number  is {}'.format(num))\n",
    "        print('reverse is {}'.format(num[::-1]))\n",
    "        continue"
   ]
  },
  {
   "cell_type": "markdown",
   "id": "827eed1e",
   "metadata": {},
   "source": [
    "## 4.\n",
    "Write a python function to find and display the five digit number in which the first digit is two more than the second,the second digit is two more than the third, the fourth digit is two less than the third, and the last digit is two more than the fourth.\n",
    "\n",
    "The sum of the third,fourth and fifth digits\n",
    "equals the first.The sum of all the digits is 19\n",
    "\n",
    "*def find_five_digit():*"
   ]
  },
  {
   "cell_type": "code",
   "execution_count": 71,
   "id": "9b6b600e",
   "metadata": {},
   "outputs": [
    {
     "name": "stdout",
     "output_type": "stream",
     "text": [
      "75313\n"
     ]
    }
   ],
   "source": [
    "for digit in range(9,0,-1):\n",
    "    first_digit = digit\n",
    "    second = first_digit-2\n",
    "    third = second - 2\n",
    "    fourth = third - 2\n",
    "    fifth = fourth + 2\n",
    "    \n",
    "    if ((third+fourth+fifth) == first_digit) and ((first_digit+second+third+fourth+fifth) == 19):\n",
    "        print(\"{}{}{}{}{}\".format(first_digit,second,third,fourth,fifth))"
   ]
  }
 ],
 "metadata": {
  "kernelspec": {
   "display_name": "Python 3 (ipykernel)",
   "language": "python",
   "name": "python3"
  },
  "language_info": {
   "codemirror_mode": {
    "name": "ipython",
    "version": 3
   },
   "file_extension": ".py",
   "mimetype": "text/x-python",
   "name": "python",
   "nbconvert_exporter": "python",
   "pygments_lexer": "ipython3",
   "version": "3.9.7"
  }
 },
 "nbformat": 4,
 "nbformat_minor": 5
}
